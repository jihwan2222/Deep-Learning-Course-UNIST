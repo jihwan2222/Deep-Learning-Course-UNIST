{
  "nbformat": 4,
  "nbformat_minor": 0,
  "metadata": {
    "colab": {
      "provenance": [],
      "collapsed_sections": []
    },
    "kernelspec": {
      "name": "python3",
      "display_name": "Python 3"
    },
    "language_info": {
      "name": "python"
    },
    "accelerator": "GPU"
  },
  "cells": [
    {
      "cell_type": "markdown",
      "source": [
        "# Building seq2seq rnn using LSTM\n",
        "The task objective is to code seq2seq model using LSTM.\n",
        "\n",
        "* An assignment part is denoted by (Assingment) \n",
        "\n",
        "* Grading criteria: Points are given if all your code in this notebook is runnable and the final ppl is lower than 200\n",
        "\n",
        "* Points are not given if the testing cell at the end of the notebook is modified or extra cells (including text) are added after the last cell. Do not change N_EPOCHS for testing efficiently.\n",
        "\n",
        "* Testing your model with the testing cell is recommended. \n",
        "\n",
        "* Please do not re-use the code from the example code. You have to write the code yourself."
      ],
      "metadata": {
        "id": "Vny1PKkek6-f"
      }
    },
    {
      "cell_type": "markdown",
      "source": [
        "#1. Preparing Data"
      ],
      "metadata": {
        "id": "wV6kpDHatJfu"
      }
    },
    {
      "cell_type": "markdown",
      "source": [
        "##1.1. Upload dataset"
      ],
      "metadata": {
        "id": "JFLIcg_hwsQX"
      }
    },
    {
      "cell_type": "code",
      "source": [
        "pip install torchtext==0.10.0\n"
      ],
      "metadata": {
        "colab": {
          "base_uri": "https://localhost:8080/"
        },
        "id": "shuEMr65t-qg",
        "outputId": "fc003f4e-368a-4ada-c4a4-c1c4ed4ffb41"
      },
      "execution_count": 1,
      "outputs": [
        {
          "output_type": "stream",
          "name": "stdout",
          "text": [
            "Looking in indexes: https://pypi.org/simple, https://us-python.pkg.dev/colab-wheels/public/simple/\n",
            "Requirement already satisfied: torchtext==0.10.0 in /usr/local/lib/python3.7/dist-packages (0.10.0)\n",
            "Requirement already satisfied: requests in /usr/local/lib/python3.7/dist-packages (from torchtext==0.10.0) (2.23.0)\n",
            "Requirement already satisfied: torch==1.9.0 in /usr/local/lib/python3.7/dist-packages (from torchtext==0.10.0) (1.9.0)\n",
            "Requirement already satisfied: numpy in /usr/local/lib/python3.7/dist-packages (from torchtext==0.10.0) (1.21.6)\n",
            "Requirement already satisfied: tqdm in /usr/local/lib/python3.7/dist-packages (from torchtext==0.10.0) (4.64.1)\n",
            "Requirement already satisfied: typing-extensions in /usr/local/lib/python3.7/dist-packages (from torch==1.9.0->torchtext==0.10.0) (4.1.1)\n",
            "Requirement already satisfied: urllib3!=1.25.0,!=1.25.1,<1.26,>=1.21.1 in /usr/local/lib/python3.7/dist-packages (from requests->torchtext==0.10.0) (1.24.3)\n",
            "Requirement already satisfied: idna<3,>=2.5 in /usr/local/lib/python3.7/dist-packages (from requests->torchtext==0.10.0) (2.10)\n",
            "Requirement already satisfied: chardet<4,>=3.0.2 in /usr/local/lib/python3.7/dist-packages (from requests->torchtext==0.10.0) (3.0.4)\n",
            "Requirement already satisfied: certifi>=2017.4.17 in /usr/local/lib/python3.7/dist-packages (from requests->torchtext==0.10.0) (2022.9.24)\n"
          ]
        }
      ]
    },
    {
      "cell_type": "code",
      "source": [
        "import torch\n",
        "import torch.nn as nn\n",
        "import torch.optim as optim\n",
        "\n",
        "from torchtext.legacy.datasets import Multi30k\n",
        "from torchtext.legacy.data import Field, BucketIterator\n",
        "\n",
        "import spacy\n",
        "import numpy as np\n",
        "\n",
        "import random\n",
        "import math\n",
        "import time\n"
      ],
      "metadata": {
        "id": "iFe01FdCtIya"
      },
      "execution_count": 20,
      "outputs": []
    },
    {
      "cell_type": "markdown",
      "source": [
        "## 1.2 pre-processing "
      ],
      "metadata": {
        "id": "IrvJvZwLLhAe"
      }
    },
    {
      "cell_type": "code",
      "source": [
        "\n",
        "from spacy.lang.en import English\n",
        "from spacy.lang.de import German\n",
        "\n",
        "\n",
        "spacy_en=English()\n",
        "spacy_de=German()\n",
        "\n",
        "def tokenize_de(text):\n",
        "\n",
        "    return [tok.text for tok in spacy_de.tokenizer(text)][::-1]\n",
        "\n",
        "def tokenize_en(text):\n",
        "\n",
        "    return [tok.text for tok in spacy_en.tokenizer(text)]\n",
        "  \n",
        "\n",
        "SRC = Field(tokenize = tokenize_de, \n",
        "            init_token = '<sos>', \n",
        "            eos_token = '<eos>', \n",
        "            lower = True)\n",
        "\n",
        "TRG = Field(tokenize = tokenize_en, \n",
        "            init_token = '<sos>', \n",
        "            eos_token = '<eos>', \n",
        "            lower = True)\n",
        "\n",
        "train_data, valid_data, test_data = Multi30k.splits(exts = ('.de', '.en'), \n",
        "                                                    fields = (SRC, TRG))\n",
        "\n",
        "SRC.build_vocab(train_data, min_freq = 2)\n",
        "TRG.build_vocab(train_data, min_freq = 2)"
      ],
      "metadata": {
        "id": "6hUSdA-atNhk"
      },
      "execution_count": 21,
      "outputs": []
    },
    {
      "cell_type": "markdown",
      "source": [
        "\n",
        " \n",
        "* sos: start of sequence\n",
        "* eos: end of sequence \n",
        "* German: SRC(source)\n",
        "* English: TRG(target)\n",
        "* Multi30k datase is a dataset with ~30,000 parallel English, Genrman and French sentences, each with ~12 workds per sentence\n",
        "* exts specifies which languages to use as the source and target (source goes first) \n",
        "* fields specifies which field to use for the source and target.\n",
        "\n",
        "\n",
        "\n"
      ],
      "metadata": {
        "id": "gPXkpwEayn91"
      }
    },
    {
      "cell_type": "markdown",
      "source": [
        "##1.3 Check whether gpu is avaliable "
      ],
      "metadata": {
        "id": "oIEiDN5TFYZd"
      }
    },
    {
      "cell_type": "code",
      "source": [
        "device = torch.device('cuda' if torch.cuda.is_available() else 'cpu')"
      ],
      "metadata": {
        "id": "uJQXGHGKtdjC"
      },
      "execution_count": 22,
      "outputs": []
    },
    {
      "cell_type": "markdown",
      "source": [
        "## 1.4 Define train/ validation /test datset "
      ],
      "metadata": {
        "id": "i2SKhc6ZLlN8"
      }
    },
    {
      "cell_type": "code",
      "source": [
        "BATCH_SIZE = 128\n",
        "\n",
        "train_iterator, valid_iterator, test_iterator = BucketIterator.splits(\n",
        "    (train_data, valid_data, test_data), \n",
        "    batch_size = BATCH_SIZE, \n",
        "    device = device)"
      ],
      "metadata": {
        "id": "jqKRG5mltf2v"
      },
      "execution_count": 23,
      "outputs": []
    },
    {
      "cell_type": "markdown",
      "source": [
        "#2. Implement RNN Model\n"
      ],
      "metadata": {
        "id": "XJJo3e3f27-6"
      }
    },
    {
      "cell_type": "markdown",
      "source": [
        "#(Assignment) 2.1 Make LSTM scratch \n",
        "\n"
      ],
      "metadata": {
        "id": "vS49ZLUR3BAW"
      }
    },
    {
      "cell_type": "code",
      "source": [
        "import torch\n",
        "from torch import nn\n",
        "\n",
        "\n",
        "class LSTM(nn.Module):\n",
        "  def __init__(self, emb_dim, hid_dim, sigma=0.01):\n",
        "    super().__init__()\n",
        "    self.emb_size = emb_dim\n",
        "    self.hid_size = hid_dim\n",
        "\n",
        "    init_weight= lambda *shape: nn.Parameter(torch.randn(*shape)*sigma)\n",
        "    \n",
        "    triple = lambda: (init_weight(emb_dim, hid_dim,),\n",
        "                      init_weight(hid_dim,hid_dim),\n",
        "                      nn.Parameter(torch.zeros(hid_dim)))\n",
        "    \n",
        "    self.W_xi, self.W_hi, self.b_i = triple() #input gate\n",
        "    self.W_xf, self.W_hf, self.b_f = triple() #forget gate\n",
        "    self.W_xo, self.W_ho, self.b_o = triple() #output gate \n",
        "    self.W_xc, self.W_hc, self.b_c = triple() #candidate memory cell\n",
        "  \n",
        "  def forward(self, inputs, H_C=None):\n",
        "\n",
        "    seq_size, batch_size, _ = inputs.size()\n",
        "    output = []\n",
        "    \n",
        "    if H_C is None:\n",
        "        H, C = (\n",
        "            torch.zeros(batch_size, self.hid_size).to(inputs.device),\n",
        "            torch.zeros(batch_size, self.hid_size).to(inputs.device),\n",
        "        )\n",
        "    else:\n",
        "        H, C = H_C\n",
        "        \n",
        "    for t in range(seq_size):\n",
        "        x_t = inputs[t, :, :]\n",
        "        \n",
        "        i_t = torch.sigmoid(x_t @ self.W_xi + H @ self.W_hi + self.b_i)\n",
        "        f_t = torch.sigmoid(x_t @ self.W_xf + H @ self.W_hf + self.b_f)\n",
        "        g_t = torch.tanh(x_t @ self.W_xc + H @ self.W_hc + self.b_c)\n",
        "        o_t = torch.sigmoid(x_t @ self.W_xo + H @ self.W_ho + self.b_o)\n",
        "\n",
        "        C = f_t * C + i_t * g_t\n",
        "        H = o_t * torch.tanh(C)\n",
        "        \n",
        "        output.append(H.unsqueeze(0))\n",
        "    \n",
        "    #reshape\n",
        "    output = torch.cat(output, dim=1)\n",
        "    output = output.squeeze(0)\n",
        "\n",
        "    return output, (H, C)      "
      ],
      "metadata": {
        "id": "6mahWMiq3Par"
      },
      "execution_count": 55,
      "outputs": []
    },
    {
      "cell_type": "markdown",
      "source": [
        "## 2.2 Check your LSTM"
      ],
      "metadata": {
        "id": "AWBa7gvq_pIa"
      }
    },
    {
      "cell_type": "code",
      "source": [
        "# nn.LSTM \n",
        "rnn = LSTM(10,20) # input_size= 10, hidden_size = 20\n",
        "\n",
        "input = torch.randn(5,3,10) # sequence length=5, batch_size=3, input_size = 10 \n",
        "\n",
        "# Initial hidden state and memery cell \n",
        "h_0 = torch.randn(1,3,20)\n",
        "c_0 = torch.randn(1,3,20)\n",
        "\n",
        "output, (hn, cn) = rnn(input, (h_0, c_0))\n",
        "# tensor, tuple object\n",
        "\n",
        "print(output.shape, '\\n', hn.shape, '\\n', cn.shape)\n"
      ],
      "metadata": {
        "colab": {
          "base_uri": "https://localhost:8080/"
        },
        "id": "bHZbpPTk_WjD",
        "outputId": "3aca795f-885a-4051-ee1a-5a79dbfcbe20"
      },
      "execution_count": 56,
      "outputs": [
        {
          "output_type": "stream",
          "name": "stdout",
          "text": [
            "torch.Size([5, 3, 20]) \n",
            " torch.Size([1, 3, 20]) \n",
            " torch.Size([1, 3, 20])\n"
          ]
        }
      ]
    },
    {
      "cell_type": "markdown",
      "source": [
        "## (Assignment) 2.3. Make Encoder\n",
        "\n",
        "\n",
        "* src = [src len, batch size]\n",
        "* embedded = [src len, batch size, emb dim]\n",
        "* outputs = [src len, batch size, hid dim ]\n",
        "* hidden = [1, batch size, hid dim]\n",
        "* cell = [1, batch size, hid dim]\n",
        "        "
      ],
      "metadata": {
        "id": "E_OT1dGx3oIR"
      }
    },
    {
      "cell_type": "code",
      "source": [
        "class Encoder(nn.Module):\n",
        "    def __init__(self, input_dim, emb_dim, hid_dim, dropout):\n",
        "        super().__init__()\n",
        "        \n",
        "        self.hid_dim = hid_dim\n",
        "        \n",
        "        self.embedding = nn.Embedding(input_dim, emb_dim)\n",
        "        \n",
        "        self.rnn = nn.LSTM(emb_dim, hid_dim, dropout = dropout)\n",
        "        \n",
        "        self.dropout = nn.Dropout(dropout)\n",
        "        \n",
        "    def forward(self, src):\n",
        "        \n",
        "        #src = [src len, batch size]       \n",
        "        #embedded = [src len, batch size, emb dim]\n",
        "\n",
        "        embedded = self.dropout(self.embedding(src))  \n",
        "        \n",
        "        #outputs = [src len, batch size, hid dim * n directions]\n",
        "        #hidden = [n layers * n directions, batch size, hid dim]\n",
        "        #cell = [n layers * n directions, batch size, hid dim]\n",
        "        \n",
        "        #outputs are always from the top hidden layer\n",
        "        \n",
        "        outputs, (hidden, cell) = self.rnn(embedded)\n",
        "        \n",
        "        return hidden, cell"
      ],
      "metadata": {
        "id": "sOo6BZ7rthtO"
      },
      "execution_count": 58,
      "outputs": []
    },
    {
      "cell_type": "markdown",
      "source": [
        "## (Assignment) 2.4. Make Decoder "
      ],
      "metadata": {
        "id": "w7VW95ZW3z09"
      }
    },
    {
      "cell_type": "code",
      "source": [
        "class Decoder(nn.Module):\n",
        "    def __init__(self, output_dim, emb_dim, hid_dim, dropout):\n",
        "        super().__init__()\n",
        "        \n",
        "        self.output_dim = output_dim\n",
        "        self.hid_dim = hid_dim\n",
        "  \n",
        "        \n",
        "        self.embedding = nn.Embedding(output_dim, emb_dim)\n",
        "        \n",
        "        self.rnn = nn.LSTM(emb_dim, hid_dim)\n",
        "        \n",
        "        self.fc_out = nn.Linear(hid_dim, output_dim)\n",
        "        \n",
        "        self.dropout = nn.Dropout(dropout)\n",
        "        \n",
        "    def forward(self, input, hidden, cell):\n",
        "\n",
        "        # input = [batch_size]\n",
        "        # hidden = [n_layers * n_dir, batch_size, hid_dim]\n",
        "        # cell = [n_layers * n_dir, batch_size, hid_dim]\n",
        "        \n",
        "        # input : [1, ,batch_size]\n",
        "        input = input.unsqueeze(0)\n",
        "        \n",
        "        \n",
        "        # embedded = [1, batch_size, emb_dim]\n",
        "        embedded = self.dropout(self.embedding(input))\n",
        "\n",
        "\n",
        "        # output = [seq_len, batch_size, hid_dim * n_dir]\n",
        "        # hidden = [n_layers * n_dir, batch_size, hid_dim]\n",
        "        # cell = [n_layers * n_dir, batch_size, hid_dim]\n",
        "        output, (hidden, cell) = self.rnn(embedded, (hidden, cell))\n",
        "\n",
        "        # seq_len and n_dir will always be 1 in the decoder\n",
        "        # prediction = [batch_size, output_dim]\n",
        "        prediction = self.fc_out(output.squeeze(0))\n",
        "\n",
        "        return prediction, hidden, cell"
      ],
      "metadata": {
        "id": "heIidIxQtlcR"
      },
      "execution_count": 59,
      "outputs": []
    },
    {
      "cell_type": "markdown",
      "source": [
        "##(Assignment) 2.5 Make Seq2seq"
      ],
      "metadata": {
        "id": "xZFTFXE53_WG"
      }
    },
    {
      "cell_type": "code",
      "source": [
        "class Seq2Seq(nn.Module):\n",
        "    def __init__(self, encoder, decoder, device):\n",
        "        super().__init__()\n",
        "        \n",
        "        self.encoder = encoder\n",
        "        self.decoder = decoder\n",
        "        self.device = device\n",
        "        \n",
        "    def forward(self, src, trg, teacher_forcing_ratio=0.5):\n",
        "        # src = [sen_len, batch_size]\n",
        "        # trg = [sen_len, batch_size]\n",
        "        # teacher_forcing_ratio : the probability to use the teacher forcing.\n",
        "        batch_size = trg.shape[1]\n",
        "        trg_len = trg.shape[0]\n",
        "        trg_vocab_size = self.decoder.output_dim\n",
        "        \n",
        "        # tensor to store decoder outputs\n",
        "        outputs = torch.zeros(trg_len, batch_size, trg_vocab_size).to(self.device)\n",
        "        \n",
        "        # last hidden state of the encoder is used as the initial hidden state of the decoder\n",
        "        hidden, cell = self.encoder(src)\n",
        "        \n",
        "        # first input to the decoder is the <sos> token.\n",
        "        input = trg[0, :]\n",
        "        for t in range(1, trg_len):\n",
        "            # insert input token embedding, previous hidden and previous cell states \n",
        "            # receive output tensor (predictions) and new hidden and cell states.\n",
        "            output, hidden, cell = self.decoder(input, hidden, cell)\n",
        "            \n",
        "            # replace predictions in a tensor holding predictions for each token\n",
        "            outputs[t] = output\n",
        "            \n",
        "            # decide if we are going to use teacher forcing or not.\n",
        "            teacher_force = random.random() < teacher_forcing_ratio\n",
        "            \n",
        "            # get the highest predicted token from our predictions.\n",
        "            top1 = output.argmax(1)\n",
        "            # update input : use ground_truth when teacher_force \n",
        "            input = trg[t] if teacher_force else top1\n",
        "            \n",
        "        return outputs"
      ],
      "metadata": {
        "id": "dbsPvGJ5tnmU"
      },
      "execution_count": 60,
      "outputs": []
    },
    {
      "cell_type": "markdown",
      "source": [
        "## 2.6 Define seq2seq Model"
      ],
      "metadata": {
        "id": "cLfcDqUEImNF"
      }
    },
    {
      "cell_type": "code",
      "source": [
        "INPUT_DIM = len(SRC.vocab)\n",
        "OUTPUT_DIM = len(TRG.vocab)\n",
        "ENC_EMB_DIM = 256\n",
        "DEC_EMB_DIM = 256\n",
        "HID_DIM = 256\n",
        "ENC_DROPOUT = 0.5\n",
        "DEC_DROPOUT = 0.5\n",
        "\n",
        "\n",
        "\n",
        "input = torch.randint(0,3,(5,3)) #sequence length=5, batch_size=3 \n",
        "enc = Encoder(INPUT_DIM, ENC_EMB_DIM, HID_DIM,  ENC_DROPOUT)\n",
        "hidden, cell = enc(input)\n",
        "print('hidden and cell shape:', hidden.shape, cell.shape)\n",
        "\n",
        "\n",
        "# Initial hidden state and memery cell \n",
        "h_0 = torch.randn(1,3,20)\n",
        "c_0 = torch.randn(1,3,20)\n",
        "input = torch.Tensor([0,1,2])\n",
        "dec = Decoder(OUTPUT_DIM, DEC_EMB_DIM, HID_DIM,  DEC_DROPOUT)\n",
        "\n",
        "\n",
        "\n",
        "model = Seq2Seq(enc, dec, device).to(device)"
      ],
      "metadata": {
        "colab": {
          "base_uri": "https://localhost:8080/"
        },
        "id": "qTNkj-fStqet",
        "outputId": "1e5e1a74-c063-4ba9-9905-80f74da3f855"
      },
      "execution_count": 61,
      "outputs": [
        {
          "output_type": "stream",
          "name": "stdout",
          "text": [
            "hidden and cell shape: torch.Size([1, 3, 256]) torch.Size([1, 3, 256])\n"
          ]
        }
      ]
    },
    {
      "cell_type": "code",
      "source": [
        "def init_weights(m):\n",
        "    for name, param in m.named_parameters():\n",
        "        nn.init.uniform_(param.data, -0.08, 0.08)\n",
        "        \n",
        "model.apply(init_weights)"
      ],
      "metadata": {
        "colab": {
          "base_uri": "https://localhost:8080/"
        },
        "id": "Hrw7mdZptskz",
        "outputId": "07f471a2-21bc-4345-88d0-c1bbfa9bef82"
      },
      "execution_count": 62,
      "outputs": [
        {
          "output_type": "execute_result",
          "data": {
            "text/plain": [
              "Seq2Seq(\n",
              "  (encoder): Encoder(\n",
              "    (embedding): Embedding(7853, 256)\n",
              "    (rnn): LSTM(256, 256, dropout=0.5)\n",
              "    (dropout): Dropout(p=0.5, inplace=False)\n",
              "  )\n",
              "  (decoder): Decoder(\n",
              "    (embedding): Embedding(5893, 256)\n",
              "    (rnn): LSTM(256, 256)\n",
              "    (fc_out): Linear(in_features=256, out_features=5893, bias=True)\n",
              "    (dropout): Dropout(p=0.5, inplace=False)\n",
              "  )\n",
              ")"
            ]
          },
          "metadata": {},
          "execution_count": 62
        }
      ]
    },
    {
      "cell_type": "code",
      "source": [
        "def count_parameters(model):\n",
        "    return sum(p.numel() for p in model.parameters() if p.requires_grad)\n",
        "\n",
        "print(f'The model has {count_parameters(model):,} trainable parameters')"
      ],
      "metadata": {
        "colab": {
          "base_uri": "https://localhost:8080/"
        },
        "id": "Aogo7QgStuDH",
        "outputId": "cb9c3bac-5e7b-4371-af44-00c88e12b6c5"
      },
      "execution_count": 63,
      "outputs": [
        {
          "output_type": "stream",
          "name": "stdout",
          "text": [
            "The model has 6,086,149 trainable parameters\n"
          ]
        }
      ]
    },
    {
      "cell_type": "markdown",
      "source": [
        "# 3. Training step "
      ],
      "metadata": {
        "id": "rIYxVpDK1A7_"
      }
    },
    {
      "cell_type": "markdown",
      "source": [
        "##(Assignment) 3.1 Train your model \n",
        "* Use gradient clipping "
      ],
      "metadata": {
        "id": "g2B7r1iBItJj"
      }
    },
    {
      "cell_type": "code",
      "source": [
        "optimizer = optim.Adam(model.parameters())\n",
        "TRG_PAD_IDX = TRG.vocab.stoi[TRG.pad_token]\n",
        "\n",
        "criterion = nn.CrossEntropyLoss(ignore_index = TRG_PAD_IDX)"
      ],
      "metadata": {
        "id": "xhA_F99stvey"
      },
      "execution_count": 64,
      "outputs": []
    },
    {
      "cell_type": "code",
      "source": [
        "def train(model, iterator, optimizer, criterion, clip):\n",
        "    \n",
        "    model.train()\n",
        "    \n",
        "    epoch_loss = 0\n",
        "    \n",
        "    for i, batch in enumerate(iterator):\n",
        "\n",
        "        #trg = [trg len, batch size]\n",
        "        #output = [trg len, batch size, output dim]\n",
        "\n",
        "        src = batch.src\n",
        "        trg = batch.trg\n",
        "        \n",
        "        optimizer.zero_grad()\n",
        "        output = model(src, trg)\n",
        "        \n",
        "        output_dim = output.shape[-1]\n",
        "        \n",
        "        output = output[1:].view(-1, output_dim)\n",
        "        trg = trg[1:].view(-1)\n",
        "        \n",
        "        loss = criterion(output, trg)\n",
        "        \n",
        "        loss.backward()\n",
        "        \n",
        "        torch.nn.utils.clip_grad_norm_(model.parameters(), clip)\n",
        "        \n",
        "        optimizer.step()\n",
        "        \n",
        "        epoch_loss += loss.item()\n",
        "        \n",
        "\n",
        "        \n",
        "    return epoch_loss / len(iterator)"
      ],
      "metadata": {
        "id": "PI_Jq_PUtyEI"
      },
      "execution_count": 65,
      "outputs": []
    },
    {
      "cell_type": "code",
      "source": [
        "def evaluate(model, iterator, criterion):\n",
        "    \n",
        "    model.eval()\n",
        "    \n",
        "    epoch_loss = 0\n",
        "    \n",
        "    with torch.no_grad():\n",
        "    \n",
        "        for i, batch in enumerate(iterator):\n",
        "\n",
        "            src = batch.src\n",
        "            trg = batch.trg\n",
        "\n",
        "            output = model(src, trg, 0) #turn off teacher forcing\n",
        "\n",
        "            #trg = [trg len, batch size]\n",
        "            #output = [trg len, batch size, output dim]\n",
        "\n",
        "            output_dim = output.shape[-1]\n",
        "            \n",
        "            output = output[1:].view(-1, output_dim)\n",
        "            trg = trg[1:].view(-1)\n",
        "\n",
        "            #trg = [(trg len - 1) * batch size]\n",
        "            #output = [(trg len - 1) * batch size, output dim]\n",
        "\n",
        "            loss = criterion(output, trg)\n",
        "            \n",
        "            epoch_loss += loss.item()\n",
        "        \n",
        "    return epoch_loss / len(iterator)"
      ],
      "metadata": {
        "id": "b2UI-H9Htyvn"
      },
      "execution_count": 66,
      "outputs": []
    },
    {
      "cell_type": "code",
      "source": [
        "def epoch_time(start_time, end_time):\n",
        "    elapsed_time = end_time - start_time\n",
        "    elapsed_mins = int(elapsed_time / 60)\n",
        "    elapsed_secs = int(elapsed_time - (elapsed_mins * 60))\n",
        "    return elapsed_mins, elapsed_secs"
      ],
      "metadata": {
        "id": "rH-yg3YRt0v_"
      },
      "execution_count": 67,
      "outputs": []
    },
    {
      "cell_type": "code",
      "source": [
        "N_EPOCHS = 1\n",
        "CLIP = 1\n",
        "\n",
        "best_valid_loss = float('inf')\n",
        "\n",
        "for epoch in range(N_EPOCHS):\n",
        "    \n",
        "    start_time = time.time()\n",
        "    \n",
        "    train_loss = train(model, train_iterator, optimizer, criterion, CLIP)\n",
        "    valid_loss = evaluate(model, valid_iterator, criterion)\n",
        "    \n",
        "    end_time = time.time()\n",
        "    \n",
        "    epoch_mins, epoch_secs = epoch_time(start_time, end_time)\n",
        "    \n",
        "    if valid_loss < best_valid_loss:\n",
        "        best_valid_loss = valid_loss\n",
        "        torch.save(model.state_dict(), 'model.pt')\n",
        "    \n",
        "    print(f'Epoch: {epoch+1:02} | Time: {epoch_mins}m {epoch_secs}s')\n",
        "    print(f'\\tTrain Loss: {train_loss:.3f} | Train PPL: {math.exp(train_loss):7.3f}')\n",
        "    print(f'\\t Val. Loss: {valid_loss:.3f} |  Val. PPL: {math.exp(valid_loss):7.3f}')\n",
        "    print('')"
      ],
      "metadata": {
        "colab": {
          "base_uri": "https://localhost:8080/"
        },
        "id": "gEQdqdhFt2cX",
        "outputId": "e2fea717-559c-4fd2-8d8a-9a62f09ea1c4"
      },
      "execution_count": 68,
      "outputs": [
        {
          "output_type": "stream",
          "name": "stdout",
          "text": [
            "Epoch: 01 | Time: 0m 24s\n",
            "\tTrain Loss: 5.154 | Train PPL: 173.115\n",
            "\t Val. Loss: 4.935 |  Val. PPL: 139.017\n",
            "\n"
          ]
        }
      ]
    },
    {
      "cell_type": "markdown",
      "source": [
        "# 4. Test your model"
      ],
      "metadata": {
        "id": "ouBFW7cMJAdm"
      }
    },
    {
      "cell_type": "code",
      "source": [
        "model.load_state_dict(torch.load('model.pt'))\n",
        "\n",
        "test_loss = evaluate(model, test_iterator, criterion)\n",
        "\n",
        "print(f'| Test Loss: {test_loss:.3f}')"
      ],
      "metadata": {
        "colab": {
          "base_uri": "https://localhost:8080/"
        },
        "id": "jLjTOzYZt50Q",
        "outputId": "fc38a68c-cdfd-4c38-ecf0-e3e2bd7d6d2b"
      },
      "execution_count": 69,
      "outputs": [
        {
          "output_type": "stream",
          "name": "stdout",
          "text": [
            "| Test Loss: 4.937\n"
          ]
        }
      ]
    },
    {
      "cell_type": "code",
      "source": [
        "ppl = math.exp(test_loss)\n",
        "print(ppl)"
      ],
      "metadata": {
        "colab": {
          "base_uri": "https://localhost:8080/"
        },
        "id": "FGhYVmO8GWGL",
        "outputId": "47528bdc-089c-4598-85c1-680ad607e4d6"
      },
      "execution_count": 70,
      "outputs": [
        {
          "output_type": "stream",
          "name": "stdout",
          "text": [
            "139.30102274172395\n"
          ]
        }
      ]
    }
  ]
}